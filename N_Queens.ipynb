{
  "nbformat": 4,
  "nbformat_minor": 0,
  "metadata": {
    "colab": {
      "name": "N-Queens",
      "provenance": []
    },
    "kernelspec": {
      "name": "python3",
      "display_name": "Python 3"
    },
    "language_info": {
      "name": "python"
    }
  },
  "cells": [
    {
      "cell_type": "code",
      "metadata": {
        "id": "0gwsaNxpP3qP"
      },
      "source": [
        "def initialize(board,n):\n",
        "  for key in ['queen','row','col','nwtose','swtone']:\n",
        "    board[key]={}\n",
        "  for i in range(n):\n",
        "    board['queen'][i] = -1\n",
        "    board['row'][i] = 0\n",
        "    board['col'][i] = 0\n",
        "  for i in range(-(n-1),n):\n",
        "    board['nwtose'][i] = 0\n",
        "  for i in range(2*(n-1)):\n",
        "    board['swtone'][i] = 0\n",
        "\n",
        "\n",
        "def printboard(board,n):\n",
        "  for row in sorted(board['queen'].keys()):\n",
        "    print('----------------------------------------')\n",
        "    for col in range(n):\n",
        "      if col == board['queen'][row]:\n",
        "        if col == 0:\n",
        "          print('| Q |',end='')\n",
        "        else:\n",
        "          print('  Q |',end='')\n",
        "      else:\n",
        "        if col == 0:\n",
        "          print('|   |',end='')\n",
        "        else:\n",
        "          print('    |',end='')\n",
        "    print('\\n')\n",
        "    \n",
        "    \n",
        "\n",
        "def free(i,j,board):\n",
        "  return(board['row'][i]==0 and board['col'][j] ==0 and board['nwtose'][j-i]==0 and board['swtone'][j+i]==0)\n",
        "\n",
        "\n",
        "def addqueen(i,j,board):\n",
        "  board['queen'][i]=j\n",
        "  board['row'][i]=1\n",
        "  board['col'][j]=1\n",
        "  board['nwtose'][j-i]=1\n",
        "  board['swtone'][j+i]=1\n",
        "\n",
        "def undoqueen(i,j,board):\n",
        "  board['queen'][i] = -1\n",
        "  board['row'][i]=0\n",
        "  board['col'][j]=0\n",
        "  board['nwtose'][j-i]=0\n",
        "  board['swtone'][j+i]=0\n",
        "\n",
        "def placequeen(i,board):\n",
        "  n = len(board['queen'].keys())\n",
        "  for j in range(n):\n",
        "    if free(i,j,board):\n",
        "      addqueen(i,j,board)\n",
        "      if i==n-1:\n",
        "        return(True)\n",
        "      else:\n",
        "        extendsoln= placequeen(i+1,board)\n",
        "      if extendsoln:\n",
        "        return(True)\n",
        "      else:\n",
        "        undoqueen(i,j,board)\n",
        "  else:\n",
        "    return(False)\n"
      ],
      "execution_count": 62,
      "outputs": []
    },
    {
      "cell_type": "code",
      "metadata": {
        "colab": {
          "base_uri": "https://localhost:8080/"
        },
        "id": "h7RUkiz1fs4P",
        "outputId": "109a159b-c92b-467b-acb6-e3bb596ca62f"
      },
      "source": [
        "board = {}\n",
        "#n = int(input('how many queens ? '))\n",
        "while(True):\n",
        "  n = int(input('how many queens ? '))\n",
        "  if n>3 and n<9:\n",
        "    break\n",
        "  else:\n",
        "    if n<=3:\n",
        "      input(\"this case is impossible, press RETURN to enter valid number of queens\")\n",
        "    elif n>=9:\n",
        "      input('the standard chessboard has 8 rows and 8 columns, press RETURN to enter valid number of queens ')\n",
        "initialize(board,n)\n",
        "if placequeen(0,board):\n",
        "  printboard(board,n)"
      ],
      "execution_count": 63,
      "outputs": [
        {
          "output_type": "stream",
          "name": "stdout",
          "text": [
            "how many queens ? 8\n",
            "----------------------------------------\n",
            "| Q |    |    |    |    |    |    |    |\n",
            "\n",
            "----------------------------------------\n",
            "|   |    |    |    |  Q |    |    |    |\n",
            "\n",
            "----------------------------------------\n",
            "|   |    |    |    |    |    |    |  Q |\n",
            "\n",
            "----------------------------------------\n",
            "|   |    |    |    |    |  Q |    |    |\n",
            "\n",
            "----------------------------------------\n",
            "|   |    |  Q |    |    |    |    |    |\n",
            "\n",
            "----------------------------------------\n",
            "|   |    |    |    |    |    |  Q |    |\n",
            "\n",
            "----------------------------------------\n",
            "|   |  Q |    |    |    |    |    |    |\n",
            "\n",
            "----------------------------------------\n",
            "|   |    |    |  Q |    |    |    |    |\n",
            "\n"
          ]
        }
      ]
    },
    {
      "cell_type": "code",
      "metadata": {
        "id": "FBj8nLjr2BKx"
      },
      "source": [
        ""
      ],
      "execution_count": 61,
      "outputs": []
    }
  ]
}